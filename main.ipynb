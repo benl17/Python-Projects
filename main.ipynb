{
 "cells": [
  {
   "cell_type": "code",
   "execution_count": 1,
   "metadata": {},
   "outputs": [],
   "source": [
    "import project"
   ]
  },
  {
   "cell_type": "code",
   "execution_count": 2,
   "metadata": {},
   "outputs": [],
   "source": [
    "# project: p4\n",
    "# submitter: bplynch3\n",
    "# partner: none\n",
    "# hours: 3"
   ]
  },
  {
   "cell_type": "code",
   "execution_count": 3,
   "metadata": {
    "scrolled": true
   },
   "outputs": [
    {
     "data": {
      "text/plain": [
       "['__builtins__',\n",
       " '__cached__',\n",
       " '__doc__',\n",
       " '__file__',\n",
       " '__init__',\n",
       " '__loader__',\n",
       " '__name__',\n",
       " '__package__',\n",
       " '__pokemon__',\n",
       " '__spec__',\n",
       " 'get_attack',\n",
       " 'get_defense',\n",
       " 'get_hp',\n",
       " 'get_region',\n",
       " 'get_sp_atk',\n",
       " 'get_sp_def',\n",
       " 'get_speed',\n",
       " 'get_type1',\n",
       " 'get_type2',\n",
       " 'print_stats']"
      ]
     },
     "execution_count": 3,
     "metadata": {},
     "output_type": "execute_result"
    }
   ],
   "source": [
    "dir(project)"
   ]
  },
  {
   "cell_type": "code",
   "execution_count": 4,
   "metadata": {},
   "outputs": [],
   "source": [
    "import math"
   ]
  },
  {
   "cell_type": "code",
   "execution_count": 5,
   "metadata": {},
   "outputs": [],
   "source": [
    "def total_skill(pkmn):\n",
    "    return(project.get_hp(pkmn) + project.get_attack(pkmn) + project.get_defense(pkmn) + project.get_sp_atk(pkmn) + \n",
    "            project.get_sp_def(pkmn) + project.get_speed(pkmn))"
   ]
  },
  {
   "cell_type": "code",
   "execution_count": 6,
   "metadata": {},
   "outputs": [],
   "source": [
    "def simple_battle(pkmn1, pkmn2):\n",
    "    if(total_skill(pkmn1) > total_skill(pkmn2)) and abs((total_skill(pkmn1) - total_skill(pkmn2)) < 300):\n",
    "        return(pkmn1)\n",
    "    elif(total_skill(pkmn1) < total_skill(pkmn2)) and abs((total_skill(pkmn2) - total_skill(pkmn1)) < 300):\n",
    "        return(pkmn2)\n",
    "    elif(total_skill(pkmn1) == total_skill(pkmn2)) and abs((total_skill(pkmn2) - total_skill(pkmn1)) < 300):\n",
    "        return(\"Draw\")\n",
    "    elif(total_skill(pkmn1) > total_skill(pkmn2)) and abs(total_skill(pkmn1) - total_skill(pkmn2)) > 300:\n",
    "        return(pkmn2 + \" ran away\")\n",
    "    elif(total_skill(pkmn2) > total_skill(pkmn1)) and abs(total_skill(pkmn1) - total_skill(pkmn2)) > 300:\n",
    "        return(pkmn1 + \" ran away\")  "
   ]
  },
  {
   "cell_type": "code",
   "execution_count": 7,
   "metadata": {},
   "outputs": [
    {
     "data": {
      "text/plain": [
       "'Squirtle'"
      ]
     },
     "execution_count": 7,
     "metadata": {},
     "output_type": "execute_result"
    }
   ],
   "source": [
    "#q1\n",
    "simple_battle(\"Squirtle\", \"Jigglypuff\")"
   ]
  },
  {
   "cell_type": "code",
   "execution_count": 8,
   "metadata": {},
   "outputs": [
    {
     "data": {
      "text/plain": [
       "'Steelix'"
      ]
     },
     "execution_count": 8,
     "metadata": {},
     "output_type": "execute_result"
    }
   ],
   "source": [
    "#q2\n",
    "simple_battle('Steelix', 'Mankey')"
   ]
  },
  {
   "cell_type": "code",
   "execution_count": 9,
   "metadata": {},
   "outputs": [
    {
     "data": {
      "text/plain": [
       "'Draw'"
      ]
     },
     "execution_count": 9,
     "metadata": {},
     "output_type": "execute_result"
    }
   ],
   "source": [
    "#q3\n",
    "simple_battle('Krabby', 'Seel')"
   ]
  },
  {
   "cell_type": "code",
   "execution_count": 10,
   "metadata": {},
   "outputs": [
    {
     "data": {
      "text/plain": [
       "'Piplup ran away'"
      ]
     },
     "execution_count": 10,
     "metadata": {},
     "output_type": "execute_result"
    }
   ],
   "source": [
    "#q4\n",
    "simple_battle('Piplup', 'Arceus')"
   ]
  },
  {
   "cell_type": "code",
   "execution_count": 11,
   "metadata": {},
   "outputs": [
    {
     "data": {
      "text/plain": [
       "'Azurill ran away'"
      ]
     },
     "execution_count": 11,
     "metadata": {},
     "output_type": "execute_result"
    }
   ],
   "source": [
    "#q5\n",
    "simple_battle('Weavile', 'Azurill')"
   ]
  },
  {
   "cell_type": "code",
   "execution_count": 12,
   "metadata": {},
   "outputs": [],
   "source": [
    "def most_damage(attacker, defender):\n",
    "    physical_damage = (10 * project.get_attack(attacker)/project.get_defense(defender))\n",
    "    special_damage = (10 * project.get_sp_atk(attacker)/project.get_sp_def(defender))\n",
    "    if physical_damage > special_damage:\n",
    "        return round(physical_damage, 4)\n",
    "    else:\n",
    "        return round(special_damage, 4)"
   ]
  },
  {
   "cell_type": "code",
   "execution_count": 13,
   "metadata": {},
   "outputs": [
    {
     "data": {
      "text/plain": [
       "12.0968"
      ]
     },
     "execution_count": 13,
     "metadata": {},
     "output_type": "execute_result"
    }
   ],
   "source": [
    "most_damage('Scraggy', 'Tranquill')"
   ]
  },
  {
   "cell_type": "code",
   "execution_count": 14,
   "metadata": {},
   "outputs": [
    {
     "data": {
      "text/plain": [
       "25.0"
      ]
     },
     "execution_count": 14,
     "metadata": {},
     "output_type": "execute_result"
    }
   ],
   "source": [
    "#q6\n",
    "most_damage('Sudowoodo', 'Mareep')"
   ]
  },
  {
   "cell_type": "code",
   "execution_count": 15,
   "metadata": {},
   "outputs": [
    {
     "data": {
      "text/plain": [
       "42.5"
      ]
     },
     "execution_count": 15,
     "metadata": {},
     "output_type": "execute_result"
    }
   ],
   "source": [
    "#q7\n",
    "most_damage('Blastoise', 'Weedle')"
   ]
  },
  {
   "cell_type": "code",
   "execution_count": 16,
   "metadata": {},
   "outputs": [],
   "source": [
    "def num_hits(attacker, defender):\n",
    "    damage = most_damage(attacker, defender)\n",
    "    return math.ceil(project.get_hp(defender)/damage)"
   ]
  },
  {
   "cell_type": "code",
   "execution_count": 17,
   "metadata": {
    "scrolled": true
   },
   "outputs": [
    {
     "data": {
      "text/plain": [
       "6"
      ]
     },
     "execution_count": 17,
     "metadata": {},
     "output_type": "execute_result"
    }
   ],
   "source": [
    "num_hits('Scraggy', 'Tranquill')"
   ]
  },
  {
   "cell_type": "code",
   "execution_count": 18,
   "metadata": {},
   "outputs": [
    {
     "data": {
      "text/plain": [
       "2"
      ]
     },
     "execution_count": 18,
     "metadata": {},
     "output_type": "execute_result"
    }
   ],
   "source": [
    "#q8\n",
    "num_hits('Wartortle', 'Caterpie')"
   ]
  },
  {
   "cell_type": "code",
   "execution_count": 19,
   "metadata": {},
   "outputs": [
    {
     "data": {
      "text/plain": [
       "9"
      ]
     },
     "execution_count": 19,
     "metadata": {},
     "output_type": "execute_result"
    }
   ],
   "source": [
    "#q9\n",
    "num_hits('Pikachu', 'Aggron')"
   ]
  },
  {
   "cell_type": "code",
   "execution_count": 20,
   "metadata": {},
   "outputs": [
    {
     "data": {
      "text/plain": [
       "2"
      ]
     },
     "execution_count": 20,
     "metadata": {},
     "output_type": "execute_result"
    }
   ],
   "source": [
    "#q10\n",
    "num_hits('Aggron', 'Pikachu')"
   ]
  },
  {
   "cell_type": "code",
   "execution_count": 21,
   "metadata": {},
   "outputs": [],
   "source": [
    "def battle(pkmn1, pkmn2):\n",
    "    pkmn1_hits = num_hits(pkmn2, pkmn1)\n",
    "    pkmn2_hits = num_hits(pkmn1, pkmn2)\n",
    "    if pkmn1_hits > pkmn2_hits and abs(num_hits(pkmn1, pkmn2) - num_hits(pkmn2, pkmn1)) < 10:\n",
    "        return(pkmn1)\n",
    "    elif pkmn2_hits > pkmn1_hits and abs(num_hits(pkmn1, pkmn2) - num_hits(pkmn2, pkmn1)) < 10:\n",
    "        return(pkmn2)\n",
    "    elif pkmn1_hits == pkmn2_hits and project.get_speed(pkmn2) > project.get_speed(pkmn1):\n",
    "        return(pkmn2)\n",
    "    elif pkmn1_hits == pkmn2_hits and project.get_speed(pkmn1) > project.get_speed(pkmn2):\n",
    "        return(pkmn1) \n",
    "    elif pkmn1_hits > pkmn2_hits and abs(num_hits(pkmn1, pkmn2) - num_hits(pkmn2, pkmn1)) > 10:\n",
    "        return(pkmn2 + \" ran away\")\n",
    "    elif pkmn2_hits > pkmn1_hits and abs(num_hits(pkmn1, pkmn2) - num_hits(pkmn2, pkmn1)) > 10:\n",
    "        return(pkmn1 + \" ran away\")\n",
    "    else:\n",
    "        return(\"Draw\")\n"
   ]
  },
  {
   "cell_type": "code",
   "execution_count": 22,
   "metadata": {},
   "outputs": [
    {
     "data": {
      "text/plain": [
       "'Scraggy'"
      ]
     },
     "execution_count": 22,
     "metadata": {},
     "output_type": "execute_result"
    }
   ],
   "source": [
    "#q11\n",
    "battle('Krabby', 'Scraggy')"
   ]
  },
  {
   "cell_type": "code",
   "execution_count": 23,
   "metadata": {},
   "outputs": [
    {
     "data": {
      "text/plain": [
       "'Charizard'"
      ]
     },
     "execution_count": 23,
     "metadata": {},
     "output_type": "execute_result"
    }
   ],
   "source": [
    "#q12\n",
    "battle('Charizard','Krabby')"
   ]
  },
  {
   "cell_type": "code",
   "execution_count": 24,
   "metadata": {},
   "outputs": [
    {
     "data": {
      "text/plain": [
       "'Palpitoad'"
      ]
     },
     "execution_count": 24,
     "metadata": {},
     "output_type": "execute_result"
    }
   ],
   "source": [
    "battle('Swadloon', 'Palpitoad')"
   ]
  },
  {
   "cell_type": "code",
   "execution_count": 25,
   "metadata": {},
   "outputs": [
    {
     "data": {
      "text/plain": [
       "'Shellder'"
      ]
     },
     "execution_count": 25,
     "metadata": {},
     "output_type": "execute_result"
    }
   ],
   "source": [
    "#q13\n",
    "battle('Shuckle', 'Shellder')"
   ]
  },
  {
   "cell_type": "code",
   "execution_count": 26,
   "metadata": {},
   "outputs": [
    {
     "data": {
      "text/plain": [
       "'Charmander'"
      ]
     },
     "execution_count": 26,
     "metadata": {},
     "output_type": "execute_result"
    }
   ],
   "source": [
    "#q14\n",
    "battle('Charmander', 'Tympole')"
   ]
  },
  {
   "cell_type": "code",
   "execution_count": 27,
   "metadata": {},
   "outputs": [
    {
     "data": {
      "text/plain": [
       "'Draw'"
      ]
     },
     "execution_count": 27,
     "metadata": {},
     "output_type": "execute_result"
    }
   ],
   "source": [
    "#q15\n",
    "battle('Mudkip', 'Gulpin')"
   ]
  },
  {
   "cell_type": "code",
   "execution_count": 28,
   "metadata": {},
   "outputs": [
    {
     "data": {
      "text/plain": [
       "'Shuckle ran away'"
      ]
     },
     "execution_count": 28,
     "metadata": {},
     "output_type": "execute_result"
    }
   ],
   "source": [
    "#q16\n",
    "battle('Shuckle', 'Ursaring')"
   ]
  },
  {
   "cell_type": "code",
   "execution_count": 29,
   "metadata": {},
   "outputs": [
    {
     "data": {
      "text/plain": [
       "'Noibat ran away'"
      ]
     },
     "execution_count": 29,
     "metadata": {},
     "output_type": "execute_result"
    }
   ],
   "source": [
    "#q17\n",
    "battle('Metagross', 'Noibat')"
   ]
  },
  {
   "cell_type": "code",
   "execution_count": 30,
   "metadata": {},
   "outputs": [
    {
     "data": {
      "text/plain": [
       "'Weedle ran away'"
      ]
     },
     "execution_count": 30,
     "metadata": {},
     "output_type": "execute_result"
    }
   ],
   "source": [
    "battle('Charizard', 'Weedle')"
   ]
  },
  {
   "cell_type": "code",
   "execution_count": 31,
   "metadata": {},
   "outputs": [],
   "source": [
    "def final_battle(pkmn1, pkmn2):\n",
    "    pkmn1_hits = num_hits(pkmn2, pkmn1)\n",
    "    pkmn2_hits = num_hits(pkmn1, pkmn2)\n",
    "    pkmn1_region = project.get_region(pkmn1)\n",
    "    pkmn2_region = project.get_region(pkmn2)\n",
    "    pkmn1_type1 = project.get_type1(pkmn1)\n",
    "    pkmn1_type2 = project.get_type2(pkmn1)\n",
    "    pkmn2_type1 = project.get_type1(pkmn2)\n",
    "    pkmn2_type2 = project.get_type2(pkmn2)\n",
    "    if pkmn1_hits > pkmn2_hits and abs(num_hits(pkmn1, pkmn2) - num_hits(pkmn2, pkmn1)) < 10 and pkmn1_region == pkmn2_region or pkmn1_type1 == \"Flying\" or pkmn1_type2 == \"Flying\" and pkmn2_type1 == \"Flying\" or pkmn2_type2 == \"Flying\":\n",
    "        return(pkmn1)\n",
    "    elif pkmn2_hits > pkmn1_hits and abs(num_hits(pkmn1, pkmn2) - num_hits(pkmn2, pkmn1)) < 10 and pkmn1_region == pkmn2_region or pkmn1_type1 == \"Flying\" or pkmn1_type2 == \"Flying\" and pkmn2_type1 == \"Flying\" or pkmn2_type2 == \"Flying\":\n",
    "        return(pkmn2)\n",
    "    elif pkmn1_hits == pkmn2_hits and project.get_speed(pkmn2) > project.get_speed(pkmn1) and pkmn1_region == pkmn2_region or pkmn1_type1 == \"Flying\" or pkmn1_type2 == \"Flying\" and pkmn2_type1 == \"Flying\" or pkmn2_type2 == \"Flying\":\n",
    "        return(pkmn2)\n",
    "    elif pkmn1_hits == pkmn2_hits and project.get_speed(pkmn1) > project.get_speed(pkmn2) and pkmn1_region == pkmn2_region or pkmn1_type1 == \"Flying\" or pkmn1_type2 == \"Flying\" and pkmn2_type1 == \"Flying\" or pkmn2_type2 == \"Flying\":\n",
    "        return(pkmn1) \n",
    "    elif pkmn1_hits > pkmn2_hits and abs(num_hits(pkmn1, pkmn2) - num_hits(pkmn2, pkmn1)) > 10 and pkmn1_region == pkmn2_region or pkmn1_type1 == \"Flying\" or pkmn1_type2 == \"Flying\" and pkmn2_type1 == \"Flying\" or pkmn2_type2 == \"Flying\":\n",
    "        return(pkmn2 + \" ran away\")\n",
    "    elif pkmn2_hits > pkmn1_hits and abs(num_hits(pkmn1, pkmn2) - num_hits(pkmn2, pkmn1)) > 10 and pkmn1_region == pkmn2_region or pkmn1_type1 == \"Flying\" or pkmn1_type2 == \"Flying\" and pkmn2_type1 == \"Flying\" or pkmn2_type2 == \"Flying\":\n",
    "        return(pkmn1 + \" ran away\")\n",
    "    elif pkmn1_hits == pkmn2_hits and project.get_speed(pkmn1) > project.get_speed(pkmn2) and pkmn1_region == pkmn2_region or pkmn1_type1 == \"Flying\" or pkmn1_type2 == \"Flying\" and pkmn2_type1 == \"Flying\" or pkmn2_type2 == \"Flying\":\n",
    "        return(\"Draw\")\n",
    "    else: \n",
    "        return(\"Cannot battle\")"
   ]
  },
  {
   "cell_type": "code",
   "execution_count": 32,
   "metadata": {},
   "outputs": [
    {
     "data": {
      "text/plain": [
       "'Cannot battle'"
      ]
     },
     "execution_count": 32,
     "metadata": {},
     "output_type": "execute_result"
    }
   ],
   "source": [
    "#q18\n",
    "final_battle('Geodude', 'Snivy')"
   ]
  },
  {
   "cell_type": "code",
   "execution_count": 33,
   "metadata": {},
   "outputs": [
    {
     "data": {
      "text/plain": [
       "'Cannot battle'"
      ]
     },
     "execution_count": 33,
     "metadata": {},
     "output_type": "execute_result"
    }
   ],
   "source": [
    "#q19\n",
    "final_battle('Zapdos', 'Foongus')"
   ]
  },
  {
   "cell_type": "code",
   "execution_count": 34,
   "metadata": {},
   "outputs": [
    {
     "data": {
      "text/plain": [
       "'Starly'"
      ]
     },
     "execution_count": 34,
     "metadata": {},
     "output_type": "execute_result"
    }
   ],
   "source": [
    "#q20\n",
    "final_battle('Starly', 'Pidgey')"
   ]
  },
  {
   "cell_type": "code",
   "execution_count": 35,
   "metadata": {},
   "outputs": [
    {
     "data": {
      "text/plain": [
       "'Scyther'"
      ]
     },
     "execution_count": 35,
     "metadata": {},
     "output_type": "execute_result"
    }
   ],
   "source": [
    "final_battle('Scyther', 'Swablu')"
   ]
  },
  {
   "cell_type": "code",
   "execution_count": null,
   "metadata": {},
   "outputs": [],
   "source": []
  }
 ],
 "metadata": {
  "kernelspec": {
   "display_name": "Python 3",
   "language": "python",
   "name": "python3"
  },
  "language_info": {
   "codemirror_mode": {
    "name": "ipython",
    "version": 3
   },
   "file_extension": ".py",
   "mimetype": "text/x-python",
   "name": "python",
   "nbconvert_exporter": "python",
   "pygments_lexer": "ipython3",
   "version": "3.8.5"
  }
 },
 "nbformat": 4,
 "nbformat_minor": 4
}
